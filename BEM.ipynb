{
 "cells": [
  {
   "cell_type": "markdown",
   "metadata": {},
   "source": [
    "# Boundary Element Method"
   ]
  },
  {
   "cell_type": "code",
   "execution_count": 1,
   "metadata": {},
   "outputs": [],
   "source": [
    "import numpy as np\n",
    "import sympy as sp"
   ]
  },
  {
   "cell_type": "markdown",
   "metadata": {},
   "source": [
    "<b>Boundaries</b>"
   ]
  },
  {
   "cell_type": "code",
   "execution_count": 2,
   "metadata": {},
   "outputs": [],
   "source": [
    "def x11(t: float):\n",
    "    return sp.cos(t) / 2\n",
    "\n",
    "def x12(t: float):\n",
    "    return sp.sin(t) / 2\n",
    "\n",
    "def x21(t: float):\n",
    "    return sp.cos(t)\n",
    "\n",
    "def x22(t: float):\n",
    "    return sp.sin(t)"
   ]
  },
  {
   "cell_type": "code",
   "execution_count": 3,
   "metadata": {},
   "outputs": [],
   "source": [
    "t = sp.Symbol('t')"
   ]
  },
  {
   "cell_type": "markdown",
   "metadata": {},
   "source": [
    "<b>Derivatives</b>"
   ]
  },
  {
   "cell_type": "code",
   "execution_count": 6,
   "metadata": {},
   "outputs": [],
   "source": [
    "def d_x(x, value: float):\n",
    "    expr = sp.diff(x(t))\n",
    "    return expr.evalf(subs = {t: value})"
   ]
  },
  {
   "cell_type": "code",
   "execution_count": 7,
   "metadata": {},
   "outputs": [],
   "source": [
    "def d2_x(x, value: float):\n",
    "    expr = sp.diff(sp.diff(x(t)))\n",
    "    return expr.evalf(subs = {t: value})"
   ]
  },
  {
   "cell_type": "markdown",
   "metadata": {},
   "source": [
    "<b>Normals</b>"
   ]
  },
  {
   "cell_type": "code",
   "execution_count": 8,
   "metadata": {},
   "outputs": [],
   "source": [
    "def v1(t: float):\n",
    "    z = sp.sqrt(np.dot(x1(t), x1(t)))\n",
    "    return [x12p(t) / z, -x11p(t) / z]\n",
    "\n",
    "def v2(t: float):\n",
    "    z = sp.sqrt(np.dot(x2(t), x2(t)))\n",
    "    return [x22p(t) / z, -x21p(t) / z]"
   ]
  },
  {
   "cell_type": "markdown",
   "metadata": {},
   "source": [
    "<b>Cores</b>"
   ]
  },
  {
   "cell_type": "code",
   "execution_count": 11,
   "metadata": {},
   "outputs": [],
   "source": [
    "def K11(t, tau: float):\n",
    "     if t != tau:\n",
    "        sub = np.subtract(x1(t), x1(tau))\n",
    "        return ((x11(t) - x11(tau)) * d_x(x12, tau) - (x12(t) - x12(tau)) * d_x(x11, tau)) / np.dot(sub, sub)\n",
    "     else:\n",
    "        return (d_x(x11, tau) * d2_x(x12, tau) - d_x(x12, tau) * d2_x(x11, tau)) / np.dot(x1(tau), x1(tau))\n",
    "\n",
    "def K22(t, tau: float):\n",
    "     if t != tau:\n",
    "        sub = np.subtract(x2(t), x2(tau))\n",
    "        return ((x21(t) - x21(tau)) * d_x(x22, tau) - (x22(t) - x22(tau)) * d_x(x21, tau)) / np.dot(sub, sub)\n",
    "     else:\n",
    "        return (d_x(x21, tau) * d2_x(x22, tau) - d_x(x22, tau) * d2_x(x21, tau)) / np.dot(x2(tau), x2(tau))\n",
    "\n",
    "def K12(t, tau: float):\n",
    "    sub = np.subtract(x1(t), x2(tau))                     \n",
    "    return sp.log(1 / sp.sqrt(np.dot(sub, sub)))\n",
    "\n",
    "def K21(t, tau: float):\n",
    "    sub = np.subtract(x2(t), x1(tau))\n",
    "    return np.dot(v2(t), v1(tau)) / np.dot(sub, sub) - 2 * np.dot(sub, v2(t)) * np.dot(sub, v1(tau)) / np.dot(sub, sub) ** 2"
   ]
  },
  {
   "cell_type": "code",
   "execution_count": null,
   "metadata": {},
   "outputs": [],
   "source": []
  }
 ],
 "metadata": {
  "kernelspec": {
   "display_name": "Python 3",
   "language": "python",
   "name": "python3"
  },
  "language_info": {
   "codemirror_mode": {
    "name": "ipython",
    "version": 3
   },
   "file_extension": ".py",
   "mimetype": "text/x-python",
   "name": "python",
   "nbconvert_exporter": "python",
   "pygments_lexer": "ipython3",
   "version": "3.7.4"
  }
 },
 "nbformat": 4,
 "nbformat_minor": 2
}
