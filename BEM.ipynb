{
 "cells": [
  {
   "cell_type": "markdown",
   "metadata": {},
   "source": [
    "# Boundary Element Method"
   ]
  },
  {
   "cell_type": "code",
   "execution_count": 1,
   "metadata": {},
   "outputs": [],
   "source": [
    "import numpy as np\n",
    "import sympy as sp\n",
    "import math as mt\n",
    "import scipy.integrate as integrate\n",
    "from tabulate import tabulate"
   ]
  },
  {
   "cell_type": "markdown",
   "metadata": {},
   "source": [
    "<b>Boundaries</b>"
   ]
  },
  {
   "cell_type": "code",
   "execution_count": 2,
   "metadata": {},
   "outputs": [],
   "source": [
    "def x11(t: float):\n",
    "    return sp.cos(t) / 2\n",
    "\n",
    "def x12(t: float):\n",
    "    return sp.sin(t) / 2\n",
    "\n",
    "def x21(t: float):\n",
    "    return sp.cos(t)\n",
    "\n",
    "def x22(t: float):\n",
    "    return sp.sin(t)"
   ]
  },
  {
   "cell_type": "markdown",
   "metadata": {},
   "source": [
    "<b>Derivatives</b>"
   ]
  },
  {
   "cell_type": "code",
   "execution_count": 3,
   "metadata": {},
   "outputs": [],
   "source": [
    "t = sp.Symbol('t')\n",
    "j = sp.Symbol('j')"
   ]
  },
  {
   "cell_type": "code",
   "execution_count": 4,
   "metadata": {},
   "outputs": [],
   "source": [
    "def evalf_d(expr, tau: float, j: int):\n",
    "    xj = expr.evalf(subs = {t: j * h})\n",
    "    return xj + tau * (expr.evalf(subs = {t: (j + 1) * h}) - xj) "
   ]
  },
  {
   "cell_type": "code",
   "execution_count": 5,
   "metadata": {},
   "outputs": [],
   "source": [
    "def d_xj(x, tau: float, j: int):\n",
    "    expr = sp.diff(x(t))\n",
    "    return evalf_d(expr, tau, j)"
   ]
  },
  {
   "cell_type": "code",
   "execution_count": 6,
   "metadata": {},
   "outputs": [],
   "source": [
    "def d2_xj(x, tau: float, j: int):\n",
    "    expr = sp.diff(sp.diff(x(t)))\n",
    "    return evalf_d(expr, tau, j)"
   ]
  },
  {
   "cell_type": "code",
   "execution_count": 7,
   "metadata": {},
   "outputs": [],
   "source": [
    "def d_x1(t: float, j: int):\n",
    "    return [d_xj(x11, t, j), d_xj(x12, t, j)]\n",
    "\n",
    "def d_x2(t: float, j: int):\n",
    "    return [d_xj(x21, t, j), d_xj(x22, t, j)]"
   ]
  },
  {
   "cell_type": "markdown",
   "metadata": {},
   "source": [
    "<b>Integrals</b>"
   ]
  },
  {
   "cell_type": "code",
   "execution_count": 19,
   "metadata": {},
   "outputs": [],
   "source": [
    "def quad(K):\n",
    "    return integrate.quad(K, 0, 1)[0] / (2 * np.pi)"
   ]
  },
  {
   "cell_type": "markdown",
   "metadata": {},
   "source": [
    "<b>Normals</b>"
   ]
  },
  {
   "cell_type": "code",
   "execution_count": 9,
   "metadata": {},
   "outputs": [],
   "source": [
    "def v1(t: float, j: int):\n",
    "    z = sp.sqrt(np.dot(x1(t, j), x1(t, j)))\n",
    "    return [xj(x12, t, j) / z, - xj(x11, t, j) / z]\n",
    "\n",
    "def v2(t: float, j: int):\n",
    "    z = sp.sqrt(np.dot(x2(t, j), x2(t, j)))\n",
    "    return [xj(x22, t, j) / z, - xj(x21, t, j) / z]"
   ]
  },
  {
   "cell_type": "markdown",
   "metadata": {},
   "source": [
    "<b>Elements Count</b>"
   ]
  },
  {
   "cell_type": "code",
   "execution_count": 10,
   "metadata": {},
   "outputs": [],
   "source": [
    "N = 4 # count\n",
    "h = 2 * sp.pi / N # step"
   ]
  },
  {
   "cell_type": "markdown",
   "metadata": {},
   "source": [
    "<b>Aproximation with Linear Function</b>"
   ]
  },
  {
   "cell_type": "code",
   "execution_count": 11,
   "metadata": {},
   "outputs": [],
   "source": [
    "def xj(x, t: float, j: int):\n",
    "    xj = x(j * h) + t * (x((j + 1) * h) - x(j * h))\n",
    "    return xj\n",
    "\n",
    "def x1(t: float, j: int):\n",
    "    return [xj(x11, t, j), xj(x12, t, j)]\n",
    "\n",
    "def x2(t: float, j: int):\n",
    "    return [xj(x21, t, j), xj(x22, t, j)]"
   ]
  },
  {
   "cell_type": "markdown",
   "metadata": {},
   "source": [
    "<b>Kernels</b>"
   ]
  },
  {
   "cell_type": "code",
   "execution_count": 12,
   "metadata": {},
   "outputs": [],
   "source": [
    "def K11(t: float, tau: float, j: int, k: int):\n",
    "    if t != tau:\n",
    "        sub = np.subtract(x1(t, k), x1(tau, j))\n",
    "        return ((xj(x11, t, k) - xj(x11, tau, j)) * d_xj(x12, tau, j) - (xj(x12, t, k) - xj(x12, tau, j)) * d_xj(x11, tau, j)) / np.dot(sub, sub)\n",
    "    else:\n",
    "        return (d_xj(x11, t, k) * d2_xj(x12, t, k) - d_xj(x12, t, k) * d2_xj(x11, t, k)) / np.dot(d_x1(t, k), d_x1(t, k))\n",
    "    \n",
    "def K12(t: float, tau: float, j: int, k: int):\n",
    "    sub = np.subtract(x1(t, k), x2(tau, j))\n",
    "    return mt.log(1 / mt.sqrt(np.dot(sub, sub)))\n",
    "\n",
    "def K21(t: float, tau: float, j: int, k: int):\n",
    "    sub = np.subtract(x2(t, k), x1(tau, j))\n",
    "    return np.dot(v2(t, k), v1(tau, j)) / np.dot(sub, sub) - 2 * np.dot(sub, v2(t, k)) * np.dot(sub, v1(tau, j)) / np.dot(sub,sub) ** 2\n",
    "\n",
    "def K22(t: float, tau: float, j: int, k: int):\n",
    "    if t != tau:\n",
    "        sub = np.subtract(x2(t, k), x2(tau, j))\n",
    "        return ((xj(x21, t, k) - xj(x21, tau, j)) * d_xj(x22, tau, j) - (xj(x22, t, k) - xj(x22, tau, j)) * d_xj(x21, tau, j)) / np.dot(sub, sub)\n",
    "    else:\n",
    "        return - (d_xj(x21, t, k) * d2_xj(x22, t, k) - d_xj(x22, t, k) * d2_xj(x21, t, k)) / np.dot(d_x2(t, k), d_x2(t, k))"
   ]
  },
  {
   "cell_type": "code",
   "execution_count": 13,
   "metadata": {},
   "outputs": [],
   "source": [
    "def matrix_A():\n",
    "    matrix = np.zeros((2 * N, 2 * N))\n",
    "    \n",
    "    for k in range(0, N):\n",
    "        \n",
    "        print(\"Перший квадрат\")\n",
    "        for j in range(0, N):\n",
    "            matrix[k][j] = quad(lambda tau: K11(np.pi, tau, j, k) * mt.sqrt(np.dot(x1(tau, j), x1(tau, j))))\n",
    "            if k == j:\n",
    "                matrix[k][j] += 1 / 2\n",
    "        \n",
    "        j = 0\n",
    "        print(\"Другий  квадрат\")\n",
    "        for i in range(N, 2 * N):\n",
    "            matrix[k][i] = quad(lambda tau: K12(np.pi, tau, j, k) * mt.sqrt(np.dot(x2(tau, j), x2(tau, j))))\n",
    "            j += 1\n",
    "\n",
    "    k = 0\n",
    "    for q in range(N, 2 * N):\n",
    "        \n",
    "        print(\"Третій квадрат\")\n",
    "        for j in range(0, N):\n",
    "            matrix[q][j] = quad(lambda tau: K21(np.pi, tau, j, k) * mt.sqrt(np.dot(x1(tau, j), x1(tau, j))))\n",
    "            \n",
    "        print(\"Четвертий квадрат\")\n",
    "        j = 0\n",
    "        for i in range(N, 2 * N):\n",
    "            matrix[q][i] = quad(lambda tau: K22(np.pi, tau, j, k) * mt.sqrt(np.dot(x2(tau, j), x2(tau, j))))\n",
    "            if q == i:\n",
    "                matrix[q][i] += 1 / 2 \n",
    "            j += 1\n",
    "        k += 1\n",
    "            \n",
    "    print(matrix)\n",
    "    return matrix"
   ]
  },
  {
   "cell_type": "code",
   "execution_count": 14,
   "metadata": {},
   "outputs": [],
   "source": [
    "def vector_b():\n",
    "    vec_b = np.zeros((2 * N, 1))\n",
    "    \n",
    "    for i in range(0, N):\n",
    "        vec_b[i][0] = 1\n",
    "        \n",
    "    for i in range(N, 2 * N):\n",
    "        vec_b[i][0] = 0\n",
    "        \n",
    "    print(vec_b)\n",
    "    return vec_b"
   ]
  },
  {
   "cell_type": "code",
   "execution_count": 15,
   "metadata": {},
   "outputs": [],
   "source": [
    "def solve_system(A, b):\n",
    "    m = np.linalg.solve(A, b)\n",
    "    print(m)\n",
    "    \n",
    "    u = 0\n",
    "\n",
    "    for i in range(0, int(len(m) / 2)):\n",
    "        u += m[i][0]\n",
    "        \n",
    "    for i in range(int(len(m) / 2), len(m)):\n",
    "        u += m[i][0]\n",
    "\n",
    "    return u"
   ]
  },
  {
   "cell_type": "code",
   "execution_count": 20,
   "metadata": {
    "scrolled": false
   },
   "outputs": [
    {
     "name": "stdout",
     "output_type": "stream",
     "text": [
      "Перший квадрат\n",
      "Другий  квадрат\n",
      "Перший квадрат\n",
      "Другий  квадрат\n",
      "Перший квадрат\n",
      "Другий  квадрат\n",
      "Перший квадрат\n",
      "Другий  квадрат\n",
      "Третій квадрат\n",
      "Четвертий квадрат\n",
      "Третій квадрат\n",
      "Четвертий квадрат\n",
      "Третій квадрат\n",
      "Четвертий квадрат\n",
      "Третій квадрат\n",
      "Четвертий квадрат\n",
      "[[ 5.00866406e-01  1.30164172e-02 -3.60957381e-03 -1.04925916e-02\n",
      "  -7.98293683e-02 -3.13196959e-02 -9.74913853e-02 -1.25035017e-01]\n",
      " [-1.04925916e-02  5.00866406e-01  1.30164172e-02 -3.60957381e-03\n",
      "  -1.25035017e-01 -7.98293683e-02 -3.13196959e-02 -9.74913853e-02]\n",
      " [-3.60957381e-03 -1.04925916e-02  5.00866406e-01  1.30164172e-02\n",
      "  -9.74913853e-02 -1.25035017e-01 -7.98293683e-02 -3.13196959e-02]\n",
      " [ 1.30164172e-02 -3.60957381e-03 -1.04925916e-02  5.00866406e-01\n",
      "  -3.13196959e-02 -9.74913853e-02 -1.25035017e-01 -7.98293683e-02]\n",
      " [ 2.65869114e-04  4.26522357e-03 -1.17883677e-03 -3.38161481e-03\n",
      "   5.01732813e-01  2.60328344e-02 -7.21914762e-03 -2.09851832e-02]\n",
      " [-3.38161481e-03  2.65869114e-04  4.26522357e-03 -1.17883677e-03\n",
      "  -2.09851832e-02  5.01732813e-01  2.60328344e-02 -7.21914762e-03]\n",
      " [-1.17883677e-03 -3.38161481e-03  2.65869114e-04  4.26522357e-03\n",
      "  -7.21914762e-03 -2.09851832e-02  5.01732813e-01  2.60328344e-02]\n",
      " [ 4.26522357e-03 -1.17883677e-03 -3.38161481e-03  2.65869114e-04\n",
      "   2.60328344e-02 -7.21914762e-03 -2.09851832e-02  5.01732813e-01]]\n"
     ]
    }
   ],
   "source": [
    "A = matrix_A()"
   ]
  },
  {
   "cell_type": "code",
   "execution_count": 21,
   "metadata": {},
   "outputs": [
    {
     "name": "stdout",
     "output_type": "stream",
     "text": [
      "------------  ------------  ------------  ------------  -----------  -----------  -----------  -----------\n",
      " 0.500866      0.0130164    -0.00360957   -0.0104926    -0.0798294   -0.0313197   -0.0974914   -0.125035\n",
      "-0.0104926     0.500866      0.0130164    -0.00360957   -0.125035    -0.0798294   -0.0313197   -0.0974914\n",
      "-0.00360957   -0.0104926     0.500866      0.0130164    -0.0974914   -0.125035    -0.0798294   -0.0313197\n",
      " 0.0130164    -0.00360957   -0.0104926     0.500866     -0.0313197   -0.0974914   -0.125035    -0.0798294\n",
      " 0.000265869   0.00426522   -0.00117884   -0.00338161    0.501733     0.0260328   -0.00721915  -0.0209852\n",
      "-0.00338161    0.000265869   0.00426522   -0.00117884   -0.0209852    0.501733     0.0260328   -0.00721915\n",
      "-0.00117884   -0.00338161    0.000265869   0.00426522   -0.00721915  -0.0209852    0.501733     0.0260328\n",
      " 0.00426522   -0.00117884   -0.00338161    0.000265869   0.0260328   -0.00721915  -0.0209852    0.501733\n",
      "------------  ------------  ------------  ------------  -----------  -----------  -----------  -----------\n",
      "det = 0.0040478092407590475\n"
     ]
    }
   ],
   "source": [
    "print(tabulate(A))\n",
    "print(\"det = \" + str(np.linalg.det(A)))"
   ]
  },
  {
   "cell_type": "code",
   "execution_count": 22,
   "metadata": {},
   "outputs": [
    {
     "name": "stdout",
     "output_type": "stream",
     "text": [
      "[[1.]\n",
      " [1.]\n",
      " [1.]\n",
      " [1.]\n",
      " [0.]\n",
      " [0.]\n",
      " [0.]\n",
      " [0.]]\n",
      "[[2.00095626e+00]\n",
      " [2.00095626e+00]\n",
      " [2.00095626e+00]\n",
      " [2.00095626e+00]\n",
      " [1.17594936e-04]\n",
      " [1.17594936e-04]\n",
      " [1.17594936e-04]\n",
      " [1.17594936e-04]]\n",
      "8.004295434075674\n"
     ]
    }
   ],
   "source": [
    "b = vector_b()\n",
    "print(solve_system(A, b))"
   ]
  },
  {
   "cell_type": "code",
   "execution_count": null,
   "metadata": {
    "scrolled": false
   },
   "outputs": [],
   "source": []
  },
  {
   "cell_type": "code",
   "execution_count": null,
   "metadata": {},
   "outputs": [],
   "source": []
  }
 ],
 "metadata": {
  "kernelspec": {
   "display_name": "Python 3",
   "language": "python",
   "name": "python3"
  },
  "language_info": {
   "codemirror_mode": {
    "name": "ipython",
    "version": 3
   },
   "file_extension": ".py",
   "mimetype": "text/x-python",
   "name": "python",
   "nbconvert_exporter": "python",
   "pygments_lexer": "ipython3",
   "version": "3.7.4"
  }
 },
 "nbformat": 4,
 "nbformat_minor": 2
}
